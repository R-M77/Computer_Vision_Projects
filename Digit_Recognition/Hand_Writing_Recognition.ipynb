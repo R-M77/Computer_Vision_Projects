{
 "cells": [
  {
   "cell_type": "code",
   "execution_count": 40,
   "metadata": {},
   "outputs": [],
   "source": [
    "import tensorflow as tf\n",
    "import tkinter as tk\n",
    "from tkinter import *\n",
    "import numpy as np\n",
    "import win32gui\n",
    "from PIL import Image, ImageGrab\n",
    "from keras.models import load_model\n",
    "from tensorflow.keras import datasets, layers, models\n",
    "import keras\n",
    "from keras import utils as np_utils"
   ]
  },
  {
   "cell_type": "code",
   "execution_count": 42,
   "metadata": {},
   "outputs": [
    {
     "name": "stdout",
     "output_type": "stream",
     "text": [
      "(60000, 28, 28) (60000,)\n",
      "train_x shape: (60000, 28, 28, 1)\n",
      "60000 train samples\n",
      "10000 test samples\n",
      "Epoch 1/10\n",
      "469/469 [==============================] - 8s 5ms/step - loss: 0.3917 - accuracy: 0.8813 - val_loss: 0.0619 - val_accuracy: 0.9820\n",
      "Epoch 2/10\n",
      "469/469 [==============================] - 2s 4ms/step - loss: 0.1139 - accuracy: 0.9704 - val_loss: 0.0497 - val_accuracy: 0.9835\n",
      "Epoch 3/10\n",
      "469/469 [==============================] - 2s 4ms/step - loss: 0.0796 - accuracy: 0.9796 - val_loss: 0.0358 - val_accuracy: 0.9890\n",
      "Epoch 4/10\n",
      "469/469 [==============================] - 2s 4ms/step - loss: 0.0648 - accuracy: 0.9838 - val_loss: 0.0366 - val_accuracy: 0.9896\n",
      "Epoch 5/10\n",
      "469/469 [==============================] - 2s 4ms/step - loss: 0.0560 - accuracy: 0.9856 - val_loss: 0.0261 - val_accuracy: 0.9916\n",
      "Epoch 6/10\n",
      "469/469 [==============================] - 2s 4ms/step - loss: 0.0491 - accuracy: 0.9874 - val_loss: 0.0361 - val_accuracy: 0.9907\n",
      "Epoch 7/10\n",
      "469/469 [==============================] - 2s 4ms/step - loss: 0.0437 - accuracy: 0.9892 - val_loss: 0.0293 - val_accuracy: 0.9910\n",
      "Epoch 8/10\n",
      "469/469 [==============================] - 2s 4ms/step - loss: 0.0372 - accuracy: 0.9901 - val_loss: 0.0288 - val_accuracy: 0.9921\n",
      "Epoch 9/10\n",
      "469/469 [==============================] - 2s 4ms/step - loss: 0.0344 - accuracy: 0.9912 - val_loss: 0.0255 - val_accuracy: 0.9932\n",
      "Epoch 10/10\n",
      "469/469 [==============================] - 2s 4ms/step - loss: 0.0275 - accuracy: 0.9925 - val_loss: 0.0222 - val_accuracy: 0.9934\n",
      "The model has successfully trained\n",
      "Test loss: 0.022207407280802727\n",
      "Test accuracy: 0.993399977684021\n",
      "Saving the model as mnist.h5\n"
     ]
    }
   ],
   "source": [
    "\"\"\"train model with Mnist data\"\"\"\n",
    "(train_x, train_y), (test_x, test_y) = datasets.mnist.load_data()\n",
    "\n",
    "print(train_x.shape, train_y.shape)\n",
    "\n",
    "train_x = train_x.reshape(train_x.shape[0], 28, 28, 1)\n",
    "test_x = test_x.reshape(test_x.shape[0], 28, 28, 1)\n",
    "input_shape = (28, 28, 1)\n",
    "\n",
    "# convert class vectors to binary class matrices\n",
    "train_y = keras.utils.np_utils.to_categorical(train_y, 10)\n",
    "test_y = keras.utils.np_utils.to_categorical(test_y, 10)\n",
    "\n",
    "train_x = train_x.astype('float32')\n",
    "test_x = test_x.astype('float32')\n",
    "train_x /= 255\n",
    "test_x /= 255\n",
    "print('train_x shape:', train_x.shape)\n",
    "print(train_x.shape[0], 'train samples')\n",
    "print(test_x.shape[0], 'test samples')\n",
    "\n",
    "batch_size = 128\n",
    "num_classes = 10\n",
    "epochs = 10\n",
    "\n",
    "model = keras.models.Sequential()\n",
    "model.add(keras.layers.Conv2D(32, kernel_size=(5, 5),activation='relu',input_shape=input_shape))\n",
    "model.add(keras.layers.MaxPooling2D(pool_size=(2, 2)))\n",
    "model.add(keras.layers.Conv2D(64, (3, 3), activation='relu'))\n",
    "model.add(keras.layers.MaxPooling2D(pool_size=(2, 2)))\n",
    "model.add(keras.layers.Flatten())\n",
    "model.add(keras.layers.Dense(128, activation='relu'))\n",
    "model.add(keras.layers.Dropout(0.3))\n",
    "model.add(keras.layers.Dense(64, activation='relu'))\n",
    "model.add(keras.layers.Dropout(0.5))\n",
    "model.add(keras.layers.Dense(num_classes, activation='softmax'))\n",
    "\n",
    "model.compile(loss=keras.losses.categorical_crossentropy,optimizer='adam',metrics=['accuracy'])\n",
    "\n",
    "hist = model.fit(train_x, train_y,batch_size=batch_size,epochs=epochs,verbose=1,validation_data=(test_x, test_y))\n",
    "print(\"The model has successfully trained\")\n",
    "\n",
    "score = model.evaluate(test_x, test_y, verbose=0)\n",
    "print('Test loss:', score[0])\n",
    "print('Test accuracy:', score[1])\n",
    "\n",
    "model.save('mnist.h5')\n",
    "print(\"Saving the model as mnist.h5\")"
   ]
  },
  {
   "cell_type": "code",
   "execution_count": 58,
   "metadata": {},
   "outputs": [],
   "source": [
    "model = load_model('mnist.h5')\n",
    "\n",
    "\"\"\"define function to predict numbers\"\"\"\n",
    "def predict_number(img):\n",
    "    img = img.resize((28,28)) #resize mnist data to 28x28\n",
    "    img = img.convert('L') #rgb to gray\n",
    "    img = np.array(img)\n",
    "    img = img.reshape(1,28,28,1) #reshape to 28x28, 1 channel\n",
    "    img = img/255.0 #normalize\n",
    "\n",
    "    # predict\n",
    "    res = model.predict([img])[0]\n",
    "    return np.argmax(res), max(res)"
   ]
  },
  {
   "cell_type": "code",
   "execution_count": 59,
   "metadata": {},
   "outputs": [],
   "source": [
    "\"\"\"Gui app class\"\"\"\n",
    "class gui_app(tk.Tk):\n",
    "    # app setup\n",
    "    def __init__(self):\n",
    "        tk.Tk.__init__(self)\n",
    "        self.x = self.y = 0\n",
    "        self.canvas = tk.Canvas(self,width=300, height=300, bg='white', cursor='cross')\n",
    "        self.label = tk.Label(self, text='Processing . . .', font=('Calibri', 48))\n",
    "        self.classify_btn = tk.Button(self, text='Recognize', command= self.classify_handwriting)\n",
    "        self.button_clear = tk.Button(self, text='Clear', command=self.clear_all)\n",
    "        \n",
    "        self.canvas.grid(row=0, column=0, pady=2, sticky=W)\n",
    "        self.label.grid(row=0, column=0, pady=2, padx=2)\n",
    "        self.classify_btn.grid(row=1, column=1, pady=2, padx=2)\n",
    "        self.button_clear.grid(row=1, column=0, pady=2)\n",
    "        self.canvas.bind('<B1-Motion>',self.draw_lines)\n",
    "    # clear all fn\n",
    "    def clear_all(self):\n",
    "        self.canvas.delete('all')\n",
    "\n",
    "    # define hand wiriting classification fn\n",
    "    def classify_handwriting(self):\n",
    "        HWND = self.canvas.winfo_id()\n",
    "        rect = win32gui.GetWindowRect(HWND)\n",
    "        x1, y1, x2, y2 = rect\n",
    "        # print(x1,x2, y1,y2)\n",
    "        im = ImageGrab.grab((x1+40, y1+40, x2+100, y2+100))\n",
    "        digit, acc = predict_number(im)\n",
    "        print(digit)\n",
    "        self.label.configure(text= str(digit)+', '+ str(int(acc*100))+'%')\n",
    "    \n",
    "    # draw lines fn\n",
    "    def draw_lines(self, event):\n",
    "        self.x = event.x\n",
    "        self.y = event.y\n",
    "        r = 8\n",
    "        self.canvas.create_oval(self.x-r, self.y-r, self.x+r, self.y+r, fill='black')\n",
    "\n",
    "    "
   ]
  },
  {
   "cell_type": "code",
   "execution_count": 60,
   "metadata": {},
   "outputs": [
    {
     "name": "stdout",
     "output_type": "stream",
     "text": [
      "2\n"
     ]
    }
   ],
   "source": [
    "\"\"\"Launch app\"\"\"\n",
    "app = gui_app()\n",
    "mainloop()"
   ]
  },
  {
   "cell_type": "code",
   "execution_count": null,
   "metadata": {},
   "outputs": [],
   "source": []
  }
 ],
 "metadata": {
  "interpreter": {
   "hash": "ac59ebe37160ed0dfa835113d9b8498d9f09ceb179beaac4002f036b9467c963"
  },
  "kernelspec": {
   "display_name": "Python 3.9.7 64-bit",
   "language": "python",
   "name": "python3"
  },
  "language_info": {
   "codemirror_mode": {
    "name": "ipython",
    "version": 3
   },
   "file_extension": ".py",
   "mimetype": "text/x-python",
   "name": "python",
   "nbconvert_exporter": "python",
   "pygments_lexer": "ipython3",
   "version": "3.9.7"
  },
  "orig_nbformat": 4
 },
 "nbformat": 4,
 "nbformat_minor": 2
}
