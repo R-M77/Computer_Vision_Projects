{
 "cells": [
  {
   "cell_type": "code",
   "execution_count": 22,
   "metadata": {},
   "outputs": [],
   "source": [
    "import cv2 as cv\n",
    "import numpy as np\n",
    "import dlib\n"
   ]
  },
  {
   "cell_type": "code",
   "execution_count": 23,
   "metadata": {},
   "outputs": [],
   "source": [
    "\"\"\"Convert shapes to numpy array\"\"\"\n",
    "def shape_to_np(shape,dtype='int'):\n",
    "    # initialize x-y coordinates\n",
    "    coords = np.zeros((68,2),dtype=dtype)\n",
    "    # loop 68 facial markers and convert to 2 tuple x-y coords\n",
    "    for i in range (0,68):\n",
    "        coords[i] = (shape.part(i).x, shape.part(i).y)\n",
    "    \n",
    "    return coords"
   ]
  },
  {
   "cell_type": "code",
   "execution_count": 24,
   "metadata": {},
   "outputs": [],
   "source": [
    "\"\"\"Create eye mask\"\"\"\n",
    "def eye_mask(mask, side):\n",
    "    points = [shape[i] for i in side]\n",
    "    points = np.array(points, dtype=np.int32)\n",
    "    mask = cv.fillConvexPoly(mask, points, 255)\n",
    "\n",
    "    return mask"
   ]
  },
  {
   "cell_type": "code",
   "execution_count": 26,
   "metadata": {},
   "outputs": [],
   "source": [
    "\"\"\"Contour detection\"\"\"\n",
    "def find_contours(thresh, mid, img, right=False):\n",
    "    # Find contours\n",
    "    contours, _ = cv.findContours(thresh, cv.RETR_EXTERNAL, cv.CHAIN_APPROX_NONE)\n",
    "\n",
    "    # Select largest contour area and find centroid\n",
    "    try: \n",
    "        c = max(contours, key=cv.contourArea)\n",
    "        # image moments to find centroid\n",
    "        moment = cv.moments(c)\n",
    "        cx = int(moment['m10']/['m00'])\n",
    "        cy = int(moment['m01']/['m00'])\n",
    "\n",
    "        if right:\n",
    "            cx += mid\n",
    "        # draw circle at contour centroid location\n",
    "        cv.circle(img, (cx,cy),4,(0,0,255),2)\n",
    "    except:\n",
    "        pass\n"
   ]
  },
  {
   "cell_type": "code",
   "execution_count": 29,
   "metadata": {},
   "outputs": [
    {
     "ename": "error",
     "evalue": "OpenCV(4.5.3) C:\\Users\\runneradmin\\AppData\\Local\\Temp\\pip-req-build-so3wle8q\\opencv\\modules\\highgui\\src\\window.cpp:1257: error: (-2:Unspecified error) The function is not implemented. Rebuild the library with Windows, GTK+ 2.x or Cocoa support. If you are on Ubuntu or Debian, install libgtk2.0-dev and pkg-config, then re-run cmake or configure script in function 'cvNamedWindow'\n",
     "output_type": "error",
     "traceback": [
      "\u001b[1;31m---------------------------------------------------------------------------\u001b[0m",
      "\u001b[1;31merror\u001b[0m                                     Traceback (most recent call last)",
      "\u001b[1;32m~\\AppData\\Local\\Temp/ipykernel_97060/2772814868.py\u001b[0m in \u001b[0;36m<module>\u001b[1;34m\u001b[0m\n\u001b[0;32m     14\u001b[0m     \u001b[0mthresh\u001b[0m \u001b[1;33m=\u001b[0m \u001b[0mimg\u001b[0m\u001b[1;33m.\u001b[0m\u001b[0mcopy\u001b[0m\u001b[1;33m(\u001b[0m\u001b[1;33m)\u001b[0m\u001b[1;33m\u001b[0m\u001b[1;33m\u001b[0m\u001b[0m\n\u001b[0;32m     15\u001b[0m \u001b[1;33m\u001b[0m\u001b[0m\n\u001b[1;32m---> 16\u001b[1;33m \u001b[0mcv\u001b[0m\u001b[1;33m.\u001b[0m\u001b[0mnamedWindow\u001b[0m\u001b[1;33m(\u001b[0m\u001b[1;34m'image'\u001b[0m\u001b[1;33m)\u001b[0m\u001b[1;33m\u001b[0m\u001b[1;33m\u001b[0m\u001b[0m\n\u001b[0m\u001b[0;32m     17\u001b[0m \u001b[0mkernel\u001b[0m \u001b[1;33m=\u001b[0m \u001b[0mnp\u001b[0m\u001b[1;33m.\u001b[0m\u001b[0mones\u001b[0m\u001b[1;33m(\u001b[0m\u001b[1;33m(\u001b[0m\u001b[1;36m9\u001b[0m\u001b[1;33m,\u001b[0m\u001b[1;36m9\u001b[0m\u001b[1;33m)\u001b[0m\u001b[1;33m,\u001b[0m \u001b[0mnp\u001b[0m\u001b[1;33m.\u001b[0m\u001b[0muint8\u001b[0m\u001b[1;33m)\u001b[0m\u001b[1;33m\u001b[0m\u001b[1;33m\u001b[0m\u001b[0m\n\u001b[0;32m     18\u001b[0m \u001b[1;33m\u001b[0m\u001b[0m\n",
      "\u001b[1;31merror\u001b[0m: OpenCV(4.5.3) C:\\Users\\runneradmin\\AppData\\Local\\Temp\\pip-req-build-so3wle8q\\opencv\\modules\\highgui\\src\\window.cpp:1257: error: (-2:Unspecified error) The function is not implemented. Rebuild the library with Windows, GTK+ 2.x or Cocoa support. If you are on Ubuntu or Debian, install libgtk2.0-dev and pkg-config, then re-run cmake or configure script in function 'cvNamedWindow'\n"
     ]
    }
   ],
   "source": [
    "\"\"\"Initialize face detector\"\"\"\n",
    "detector = dlib.get_frontal_face_detector()\n",
    "# load dlib shape predictor model 'shape_predictor_68_face_landmarks.dat'\n",
    "predictor = dlib.shape_predictor('shape_predictor_68_face_landmarks.dat')\n",
    "\n",
    "left_eye = [36,37,38,39,40,41]\n",
    "right_eye = [42,43,44,45,46,47]\n",
    "\n",
    "cap = cv.VideoCapture(0)\n",
    "while True:\n",
    "    success, img = cap.read()\n",
    "    if img is None:\n",
    "        break\n",
    "    thresh = img.copy()\n",
    "\n",
    "cv.namedWindow('image')\n",
    "kernel = np.ones((9,9), np.uint8)\n",
    "\n",
    "# pass if nothing there\n",
    "def no_data(x):\n",
    "    pass\n",
    "\n",
    "cv.createTrackbar('threshold','image',0,255,no_data)\n",
    "\n",
    "\"\"\"Main loop\"\"\"\n",
    "while(True):\n",
    "    ret, img = cap.read()\n",
    "    gray = cv.cvtColor(img,cv.COLOR_BGR2GRAY)\n",
    "    rects = detector(gray,1)\n",
    "\n",
    "    for r in rects:\n",
    "        shape = predictor(gray,r)\n",
    "        shape = shape_to_np(shape)\n",
    "\n",
    "        mask = np.zeros(img.shape[:2], dtype=np.uint8)\n",
    "        mask = eye_mask(mask,left_eye)\n",
    "        mask = eye_mask(mask, right_eye)\n",
    "        mask = cv.dilate(mask,kernel,5)\n",
    "\n",
    "        eyes = cv.bitwise_and(img,img, mask=mask)\n",
    "        mask = (eyes == [0,0,0]).all(axis=2)\n",
    "        eyes[mask] = [255,255,255]\n",
    "\n",
    "        mid = (shape[42][0] + shape[39][0])//2\n",
    "        eyes_gray = cv.cvtColor(eyes,cv.COLOR_BGR2GRAY)\n",
    "        \n",
    "        threshold = cv.getTrackbarPos('threshold', 'image')\n",
    "        _, thresh = cv.threshold(eyes_gray,threshold, 255,cv.THRESH_BINARY)\n",
    "        thresh = cv.erode(thresh, None, iterations=2)\n",
    "        thresh = cv.dilate(thresh, None, iterations=4)\n",
    "        thresh = cv.medianBlur(thresh,3)\n",
    "        thresh = cv.bitwise_not(thresh)\n",
    "\n",
    "        find_contours(thresh[:,0:mid], mid, img)\n",
    "        find_contours(thresh[:mid:],mid, img, True)\n",
    "        \n",
    "    # show images with detected features and markers\n",
    "    cv.imshow('eyes',img)\n",
    "    cv.imshow('image',thresh)\n",
    "    \n",
    "    if cv.waitKey(1) & 0xFF == ord('q'):\n",
    "        break\n",
    "\n",
    "cap.release()\n",
    "cv.destroyAllWindows()\n"
   ]
  }
 ],
 "metadata": {
  "interpreter": {
   "hash": "ac59ebe37160ed0dfa835113d9b8498d9f09ceb179beaac4002f036b9467c963"
  },
  "kernelspec": {
   "display_name": "Python 3.9.7 64-bit",
   "name": "python3"
  },
  "language_info": {
   "codemirror_mode": {
    "name": "ipython",
    "version": 3
   },
   "file_extension": ".py",
   "mimetype": "text/x-python",
   "name": "python",
   "nbconvert_exporter": "python",
   "pygments_lexer": "ipython3",
   "version": "3.9.7"
  },
  "orig_nbformat": 4
 },
 "nbformat": 4,
 "nbformat_minor": 2
}
